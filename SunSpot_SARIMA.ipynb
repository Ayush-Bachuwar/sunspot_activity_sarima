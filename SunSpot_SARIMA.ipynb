{
  "cells": [
    {
      "cell_type": "code",
      "execution_count": null,
      "metadata": {
        "id": "Ozzw25xG-EcQ"
      },
      "outputs": [],
      "source": [
        "import numpy as np\n",
        "import pandas as pd\n",
        "import os\n",
        "import matplotlib.pyplot as plt\n",
        "import statsmodels.api as sm\n",
        "plt.style.use('seaborn')\n",
        "plt.rcParams['figure.figsize'] = [16, 9]\n",
        "from statsmodels.tsa import stattools\n",
        "from statsmodels.graphics.tsaplots import plot_acf, plot_pacf\n",
        "from timeit import default_timer as timers\n",
        "# load the data\n",
        "df = pd.read_csv('/content/sunspot_data.csv', delimiter=',', na_values=['-1'])\n",
        "df.dataframeName = 'sunspot_data.csv'\n",
        "del(df['Unnamed: 0'])\n",
        "df.columns = ['year', 'month', 'day', 'fraction','sunspots', 'sdt', 'obs','indicator']\n",
        "df.head(-5)\n",
        "\n",
        "# Add the column time\n",
        "df['time']=df[['year', 'month', 'day']].apply(lambda s: pd.datetime(*s),axis = 1)\n",
        "# time column is the index of the dataframe\n",
        "df.index = df['time']\n",
        "# replace the Nan by linear interpolation\n",
        "df['sunspots'].interpolate(method='linear', inplace=True)\n",
        "ts = pd.Series(data=df.sunspots, index=df.index)\n",
        "#ts = ts['1900-01-01':]\n",
        "ts_month = ts.resample('MS').mean()\n",
        "ts_quarter = ts.resample('Q').mean()\n",
        "ts_quarter.plot()\n",
        "plt.show()\n",
        "plot_pacf(ts_quarter,lags=100,title='Sunspots')\n",
        "plt.show()\n",
        "plot_acf(ts_quarter,lags=100,title='Sunspots')\n",
        "plt.show()\n",
        "from statsmodels.tsa.stattools import adfuller\n",
        "def printADFTest(serie):\n",
        "    result = adfuller(serie, autolag='AIC')\n",
        "    print(\"ADF Statistic %F\" % (result[0]))\n",
        "    print(f'p-value: {result[1]}')\n",
        "    for key, value in result[4].items():\n",
        "        print('Critial Values:')\n",
        "        print(f'   {key}, {value}')\n",
        "    print('\\n')\n",
        "#d = 0\n",
        "printADFTest(ts_quarter)\n",
        "#d = 1\n",
        "#printADFTest(ts_quarter.diff(1).dropna())\n",
        "model = sm.tsa.statespace.SARIMAX(ts_quarter, trend='n', order=(3,0,10), seasonal_order=(1,1,0,43))\n",
        "results = model.fit()\n",
        "print(results.summary())\n",
        "forecast = results.predict(start = ts_quarter.index[-2], end= ts_quarter.index[-2] + pd.DateOffset(months=240), dynamic= True)\n",
        "ts_quarter.plot()\n",
        "forecast.plot()\n",
        "plt.show()"
      ]
    }
  ],
  "metadata": {
    "colab": {
      "provenance": []
    },
    "kernelspec": {
      "display_name": "Python 3",
      "name": "python3"
    },
    "language_info": {
      "name": "python"
    }
  },
  "nbformat": 4,
  "nbformat_minor": 0
}
